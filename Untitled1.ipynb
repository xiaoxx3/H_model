{
 "cells": [
  {
   "cell_type": "code",
   "execution_count": 9,
   "id": "aa0e0379",
   "metadata": {},
   "outputs": [
    {
     "name": "stdout",
     "output_type": "stream",
     "text": [
      "处理完成，结果已保存到1.5w.xlsx\n"
     ]
    }
   ],
   "source": [
    "import pandas as pd\n",
    "\n",
    "# 读取Excel文件\n",
    "df = pd.read_excel('1.xlsx', header=None)\n",
    "\n",
    "# 删除第二列中含有缺失值的行\n",
    "df_cleaned = df.dropna(subset=[1])\n",
    "\n",
    "# 保存处理后的数据到新的Excel文件\n",
    "df_cleaned.to_excel('9000.xlsx', index=False, header=False)\n",
    "# df_cleaned.to_csv('2.csv', index=False, header=False)\n",
    "# \n",
    "print(\"处理完成，结果已保存到1.5w.xlsx\")\n"
   ]
  },
  {
   "cell_type": "code",
   "execution_count": null,
   "id": "04a8f52f",
   "metadata": {},
   "outputs": [],
   "source": []
  }
 ],
 "metadata": {
  "kernelspec": {
   "display_name": "Python 3 (ipykernel)",
   "language": "python",
   "name": "python3"
  },
  "language_info": {
   "codemirror_mode": {
    "name": "ipython",
    "version": 3
   },
   "file_extension": ".py",
   "mimetype": "text/x-python",
   "name": "python",
   "nbconvert_exporter": "python",
   "pygments_lexer": "ipython3",
   "version": "3.10.9"
  }
 },
 "nbformat": 4,
 "nbformat_minor": 5
}
